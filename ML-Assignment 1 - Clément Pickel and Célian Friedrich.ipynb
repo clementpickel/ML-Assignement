{
 "cells": [
  {
   "cell_type": "markdown",
   "metadata": {},
   "source": [
    "# Machine Learning - Assignment 1\n",
    "\n",
    "## Naive Bayes Learning algorithm, Cross-validation, and ROC-Curves"
   ]
  },
  {
   "cell_type": "markdown",
   "metadata": {},
   "source": [
    "The aim of the assignment is to implement:\n",
    "\n",
    "* Naive Bayes learning algorithm for binary classification tasks\n",
    "* Visualization to plot a ROC-curve\n",
    "* A cross-validation test\n",
    "* Visualization of the average ROC-curve of a cross-validation test\n",
    "\n",
    "Follow the instructions and implement what is missing to complete the assignment. Some functions have been started to help you a little bit with the inputs or outputs of the function.\n",
    "\n",
    "**Note:** You might need to go back and forth during your implementation of the code. The structure is set up to make implementation easier, but how you return values from the different functions might vary, and you might find yourself going back and change something to make it easier later on."
   ]
  },
  {
   "cell_type": "markdown",
   "metadata": {},
   "source": [
    "## Assignment preparations"
   ]
  },
  {
   "cell_type": "markdown",
   "metadata": {},
   "source": [
    "We help you out with importing the libraries and reading the data.\n",
    "\n",
    "Look at the output to get an idea of how the data is structured."
   ]
  },
  {
   "cell_type": "code",
   "execution_count": 795,
   "metadata": {},
   "outputs": [
    {
     "name": "stdout",
     "output_type": "stream",
     "text": [
      "Full data array (features and labels):\n",
      "[[5.1 3.5 1.4 0.2 0]\n",
      " [4.9 3.0 1.4 0.2 0]\n",
      " [4.7 3.2 1.3 0.2 0]]\n",
      "\n",
      "###############\n",
      "\n",
      "Train features (first 4 columns):\n",
      "[[5.1 3.5 1.4 0.2]\n",
      " [4.9 3.0 1.4 0.2]\n",
      " [4.7 3.2 1.3 0.2]]\n",
      "\n",
      "Labels (last column):\n",
      "[[0]\n",
      " [0]\n",
      " [0]]\n",
      "\n",
      "Names of labels:\n",
      "[[0, 'Iris-setosa'], [1, 'Iris-versicolor'], [2, 'Iris-virginica']]\n"
     ]
    }
   ],
   "source": [
    "import numpy as np\n",
    "import pandas as pd\n",
    "import matplotlib.pyplot as plt\n",
    "\n",
    "from math import e, pi, sqrt\n",
    "\n",
    "data = pd.read_csv(\"iris.csv\").to_numpy()\n",
    "\n",
    "mapped, index, unique_arr = np.unique(data[:, -1], return_index=True, return_inverse=True)\n",
    "data[:, -1] = unique_arr\n",
    "iris_setosa, iris_versicolor, iris_virginica = np.split(data, index[1:])\n",
    "\n",
    "print(f\"Full data array (features and labels):\\n{iris_setosa[:3]}\\n\")\n",
    "print(\"###############\\n\")\n",
    "print(f\"Train features (first 4 columns):\\n{iris_setosa[:3, :-1]}\\n\")\n",
    "print(f\"Labels (last column):\\n{iris_setosa[:3, -1:]}\\n\")\n",
    "print(f\"Names of labels:\\n{[[numb, name] for numb, name in enumerate(mapped)]}\")\n"
   ]
  },
  {
   "cell_type": "code",
   "execution_count": 796,
   "metadata": {},
   "outputs": [
    {
     "data": {
      "text/plain": [
       "array([[5.1, 3.5, 1.4, 0.2, 0],\n",
       "       [4.9, 3.0, 1.4, 0.2, 0],\n",
       "       [4.7, 3.2, 1.3, 0.2, 0]], dtype=object)"
      ]
     },
     "execution_count": 796,
     "metadata": {},
     "output_type": "execute_result"
    }
   ],
   "source": [
    "# Example print of the 3 first datapoints (similar as above):\n",
    "iris_setosa[:3]"
   ]
  },
  {
   "cell_type": "markdown",
   "metadata": {},
   "source": [
    "## Data handling functions\n",
    "\n",
    "As a start, we are going to implement some basic data handling functions to use in the future."
   ]
  },
  {
   "cell_type": "markdown",
   "metadata": {},
   "source": [
    "### 1) Split class into a train and test set\n",
    "\n",
    "First, we need to be able to split the class into a train and test set."
   ]
  },
  {
   "cell_type": "code",
   "execution_count": 797,
   "metadata": {},
   "outputs": [],
   "source": [
    "def train_test_split(class_data):\n",
    "    # TODO: Split the data into two parts, train and test.\n",
    "    # Numpy has some functionallity that makes implementing this part easier.\n",
    "    test_size = 0.50\n",
    "\n",
    "    copy = class_data.copy()\n",
    "\n",
    "    np.random.shuffle(copy)\n",
    "    split_index = int(len(copy) * (1 - test_size))\n",
    "    train, test = copy[:split_index], copy[split_index:]\n",
    "\n",
    "    return train, test"
   ]
  },
  {
   "cell_type": "code",
   "execution_count": 798,
   "metadata": {},
   "outputs": [
    {
     "name": "stdout",
     "output_type": "stream",
     "text": [
      "[[5.1 3.5 1.4 0.2 0]\n",
      " [4.9 3.0 1.4 0.2 0]\n",
      " [4.7 3.2 1.3 0.2 0]\n",
      " [4.6 3.1 1.5 0.2 0]\n",
      " [5.0 3.6 1.4 0.2 0]]\n",
      "[[5.1 3.5 1.4 0.2 0]\n",
      " [4.9 3.0 1.4 0.2 0]\n",
      " [4.7 3.2 1.3 0.2 0]\n",
      " [4.6 3.1 1.5 0.2 0]\n",
      " [5.0 3.6 1.4 0.2 0]]\n",
      "\n",
      "\n"
     ]
    }
   ],
   "source": [
    "# TODO: Test the train_test_split function\n",
    "print(iris_setosa[:5])\n",
    "train, test = train_test_split(iris_setosa)\n",
    "print(iris_setosa[:5])\n",
    "\n",
    "# TODO: Print the output\n",
    "# print(\"train:\\n\", train[:5], \"\\ntest:\\n\", test[:5])\n",
    "print(\"\\n\")\n"
   ]
  },
  {
   "cell_type": "markdown",
   "metadata": {},
   "source": [
    "### 2) Split data into features and labels\n",
    "\n",
    "The data as shown above is not always the optimal shape. To help us keep track of things, we can split the data into its features and labels seperately.\n",
    "\n",
    "Each class is 4 features and 1 label in the same array: \n",
    "\n",
    "* **[feature 1, feature 2, feature 3, feature 4, label]**\n",
    "\n",
    "It would help us later to have the features and labels in seperate arrays in the form: \n",
    "\n",
    "* **[feature 1, feature 2, feature 3, feature 4]** and **[label]**\n",
    "\n",
    "Here you are going to implement this functionallity."
   ]
  },
  {
   "cell_type": "code",
   "execution_count": 799,
   "metadata": {},
   "outputs": [],
   "source": [
    "def class_split(data):\n",
    "    # TODO: Split one class into its features and labels\n",
    "\n",
    "    features, labels = np.split(data, [4], axis=1)\n",
    "    labels = labels.flatten()\n",
    "    \n",
    "    return features, labels"
   ]
  },
  {
   "cell_type": "markdown",
   "metadata": {},
   "source": [
    "We should first test the \"**class_split**\" function on one of the classes above (iris_setosa, etc...) to make sure it works properly."
   ]
  },
  {
   "cell_type": "code",
   "execution_count": 800,
   "metadata": {},
   "outputs": [
    {
     "name": "stdout",
     "output_type": "stream",
     "text": [
      "features:\n",
      " [[5.1 3.5 1.4 0.2]\n",
      " [4.9 3.0 1.4 0.2]\n",
      " [4.7 3.2 1.3 0.2]\n",
      " [4.6 3.1 1.5 0.2]\n",
      " [5.0 3.6 1.4 0.2]] \n",
      "labels:\n",
      " [0 0 0 0 0]\n"
     ]
    }
   ],
   "source": [
    "# TODO: Test the class splitting function\n",
    "features, labels = class_split(data)\n",
    "\n",
    "# TODO: Print the output\n",
    "print(\"features:\\n\", features[:5], \"\\nlabels:\\n\", labels[:5])"
   ]
  },
  {
   "cell_type": "markdown",
   "metadata": {},
   "source": [
    "We should also try to **1)** first split a class into a train and test set, **2)** split each of these two into features and abels. In total there should be 4 arrays (2 feature and 2 label arrays)."
   ]
  },
  {
   "cell_type": "code",
   "execution_count": 801,
   "metadata": {},
   "outputs": [
    {
     "name": "stdout",
     "output_type": "stream",
     "text": [
      "train_features:\n",
      " [[6.6 2.9 4.6 1.3]\n",
      " [6.3 2.3 4.4 1.3]\n",
      " [6.9 3.1 4.9 1.5]\n",
      " [6.7 3.1 4.7 1.5]\n",
      " [4.9 2.5 4.5 1.7]] \n",
      "train_labels:\n",
      " [1 1 1 1 2]\n",
      "test_features:\n",
      " [[5.8 2.6 4.0 1.2]\n",
      " [5.6 2.8 4.9 2.0]\n",
      " [4.8 3.0 1.4 0.1]\n",
      " [5.4 3.4 1.5 0.4]\n",
      " [6.7 3.0 5.0 1.7]] \n",
      "test_labels:\n",
      " [1 2 0 0 1]\n"
     ]
    }
   ],
   "source": [
    "# TODO: Use the above data handling functions to make 2 feature arrays and 2 label arrays.\n",
    "\n",
    "train, test = train_test_split(data)\n",
    "train_features, train_label = class_split(train)\n",
    "test_features, test_label = class_split(test)\n",
    "\n",
    "\n",
    "# TODO: Print the output (you may use multiple print-statements if you wish)\n",
    "print(\"train_features:\\n\", train_features[:5], \"\\ntrain_labels:\\n\", train_label[:5])\n",
    "print(\"test_features:\\n\", test_features[:5], \"\\ntest_labels:\\n\", test_label[:5])"
   ]
  },
  {
   "cell_type": "markdown",
   "metadata": {},
   "source": [
    "Think a bit before going to the next task, what can easily go wrong in the above code?"
   ]
  },
  {
   "cell_type": "markdown",
   "metadata": {},
   "source": [
    "## Naive Bayes learning algorithm"
   ]
  },
  {
   "cell_type": "markdown",
   "metadata": {},
   "source": [
    "When implementing the Naive Bayes learning algorithm, we can break it down into a few components.\n",
    "\n",
    "We will implement these components one at a time."
   ]
  },
  {
   "cell_type": "markdown",
   "metadata": {},
   "source": [
    "### 3) Calculate feature statistics\n",
    "\n",
    "First, we need to implement a function that returns feature statistics (means, standard deviation, priors) for a given set of feature data for a single class. This is the equivalent of \"training\" the naive bayes model.\n",
    "\n",
    "**Note 1:** Each feature gets its own mean and standard deviation!\n",
    "\n",
    "**Note 2:** The way you structure the functions (what is returned) shapes the remainder of the assignment."
   ]
  },
  {
   "cell_type": "code",
   "execution_count": 802,
   "metadata": {},
   "outputs": [],
   "source": [
    "def calculate_feature_statistics(feature_data):\n",
    "    # TODO: Complete this function so that it returns the feature statistics for the input data.\n",
    "\n",
    "    feature_data = feature_data.astype(float)\n",
    "\n",
    "    means = np.mean(feature_data, axis=0)\n",
    "    stdevs = np.std(feature_data, axis=0)\n",
    "\n",
    "    return means, stdevs\n",
    "\n",
    "def calculate_prior(label_data):\n",
    "    labels, priors = np.unique(label_data, return_counts=True)\n",
    "\n",
    "    total = np.sum(priors)\n",
    "    dict = {}\n",
    "\n",
    "    for index in range(len(labels)):\n",
    "        dict[labels[index]] = float(priors[index] / total)\n",
    "    return dict\n"
   ]
  },
  {
   "cell_type": "markdown",
   "metadata": {},
   "source": [
    "To make sure the function works, we should test it before proceding."
   ]
  },
  {
   "cell_type": "code",
   "execution_count": 803,
   "metadata": {},
   "outputs": [
    {
     "name": "stdout",
     "output_type": "stream",
     "text": [
      "[5.84333333 3.054      3.75866667 1.19866667] [0.82530129 0.43214658 1.75852918 0.76061262] {0: 0.3333333333333333, 1: 0.3333333333333333, 2: 0.3333333333333333}\n"
     ]
    }
   ],
   "source": [
    "# TODO: Make sure to use our previous class splitting function.\n",
    "train, test = train_test_split(data)\n",
    "train_features, train_label = class_split(data)\n",
    "test_features, test_label = class_split(test)\n",
    "\n",
    "# TODO: Test the function here for one of the dataset classes. \n",
    "means, stdevs= calculate_feature_statistics(train_features)\n",
    "priors = calculate_prior(train_label)\n",
    "\n",
    "# TODO: Print the output from the feature statistic function.\n",
    "print(means, stdevs, priors)"
   ]
  },
  {
   "cell_type": "markdown",
   "metadata": {},
   "source": [
    "### 4) Gaussian probability density function (Gaussian PDF)\n",
    "\n",
    "Now we need to implement the gaussian probability density function to use for a single datapoint.\n",
    "\n",
    "**Note:** Look at the imports in the first cell at the top, it has some math numbers for easy use here. "
   ]
  },
  {
   "cell_type": "code",
   "execution_count": 804,
   "metadata": {},
   "outputs": [],
   "source": [
    "def gaussian_probability_density_function(x, means, stdevs):\n",
    "    # TODO: Implement the gaussian probability density function.\n",
    "    prob_density = [\n",
    "        1 / np.sqrt(2 * np.pi * stdevs[i]**2) * np.exp((-((x[i] - means [i]) **2)/(2*stdevs[i]**2))) for i in range(len(x))\n",
    "    ]\n",
    "    prob_density = np.prod(prob_density)\n",
    "    return prob_density"
   ]
  },
  {
   "cell_type": "markdown",
   "metadata": {},
   "source": [
    "### 5) Testing Gaussian PDF"
   ]
  },
  {
   "cell_type": "markdown",
   "metadata": {},
   "source": [
    "We should test it to make sure it works. Train it, using the \"calculate_feature_statistics\" function, on one of the dataset classes. Then, take one datapoint from the same class and use naive bayes gaussian to make a prediction."
   ]
  },
  {
   "cell_type": "code",
   "execution_count": 805,
   "metadata": {},
   "outputs": [
    {
     "name": "stdout",
     "output_type": "stream",
     "text": [
      "setosa gaussian pdf on setosa train data 0.09906842566719794\n"
     ]
    }
   ],
   "source": [
    "# TODO: Implement the code below to test the \"gaussian_probability_density_function\" function for one of the classes.\n",
    "train_setosa, test_setosa = train_test_split(iris_setosa)\n",
    "train_setosa_features, train_setosa_label = class_split(train_setosa)\n",
    "test_setosa_features, test_setosa_label = class_split(test_setosa)\n",
    "\n",
    "train_setosa_means, train_setosa_stdevs = calculate_feature_statistics(train_setosa_features)\n",
    "\n",
    "# TODO: Test with one datapoint from the learned class.\n",
    "setosa_gpdf = gaussian_probability_density_function(test_setosa_features[0], train_setosa_means, train_setosa_stdevs)\n",
    "# TODO: Print the probability density\n",
    "print(\"setosa gaussian pdf on setosa train data\", setosa_gpdf)"
   ]
  },
  {
   "cell_type": "markdown",
   "metadata": {},
   "source": [
    "As a test, take one datapoint from one of the other classes and see if the predicted probability changes."
   ]
  },
  {
   "cell_type": "code",
   "execution_count": 806,
   "metadata": {},
   "outputs": [
    {
     "name": "stdout",
     "output_type": "stream",
     "text": [
      "versicolor gaussian pdf on setosa train data 1.0206112411730258e-33\n"
     ]
    }
   ],
   "source": [
    "# TODO: Take one datapoint from one of the other classes.\n",
    "train_versicolor, test_versicolor = train_test_split(iris_versicolor)\n",
    "train_versicolor_features, train_versicolor_label = class_split(train_versicolor)\n",
    "\n",
    "other_class_datapoint = train_versicolor_features[0]\n",
    "\n",
    "# TODO: Use naive bayes gaussian on this datapoint with the same feature statistics as the first class.\n",
    "versicolor_gpdf = gaussian_probability_density_function(other_class_datapoint, train_setosa_means, train_setosa_stdevs)\n",
    "\n",
    "# TODO: Print the probability\n",
    "print(\"versicolor gaussian pdf on setosa train data\", versicolor_gpdf)"
   ]
  },
  {
   "cell_type": "markdown",
   "metadata": {},
   "source": [
    "Think a bit why the probability changes, what could affect the prediction?"
   ]
  },
  {
   "cell_type": "markdown",
   "metadata": {},
   "source": [
    "## Prepare Naive Bayes for binary classification"
   ]
  },
  {
   "cell_type": "markdown",
   "metadata": {},
   "source": [
    "### 6) Prepare the data for inference\n",
    "\n",
    "Before we train and test the naive bayes for multiple classes, we should get our data in order.\n",
    "\n",
    "Similar to how we did previously, we should now split two classes into a train and test set, you may choose which two classes freely."
   ]
  },
  {
   "cell_type": "code",
   "execution_count": 807,
   "metadata": {},
   "outputs": [],
   "source": [
    "# TODO: Split two classes into train and test sets.\n",
    "train_setosa, test_setosa = train_test_split(iris_setosa)\n",
    "train_versicolor, test_versicolor = train_test_split(iris_versicolor)\n",
    "\n",
    "\n",
    "# TODO: Sepearte the features and lables for both the train and test set.\n",
    "train_setosa_features, train_setosa_label = class_split(train_setosa)\n",
    "test_setosa_features, test_setosa_label = class_split(test_setosa)\n",
    "\n",
    "train_versicolor_features, train_versicolor_label = class_split(train_versicolor)\n",
    "test_versicolor_features, test_versicolor_label = class_split(test_versicolor)\n"
   ]
  },
  {
   "cell_type": "markdown",
   "metadata": {},
   "source": [
    "### 7) Class A vs Class B for binary classification\n",
    "\n",
    "**Note:** You might need to go back and forth a bit in the following cells during your implementation of your code.\n",
    "\n",
    "We have to get the probability from two sets of classes and compare the two probabilities in order to make a propper prediction.\n",
    "\n",
    "Here we will implement two functions to make this possible. We seperate these functions to make the implementation of the ROC-curve easier later on.\n",
    "\n",
    "**Function 1: naive_bayes_prediction** \n",
    "* A function that returns the probabilities for each class the model for a single datapoint.\n",
    "\n",
    "**Function 2: probabilities_to_prediction**\n",
    "* A function that takes in probabilities and returns a prediction."
   ]
  },
  {
   "cell_type": "code",
   "execution_count": 808,
   "metadata": {},
   "outputs": [],
   "source": [
    "def naive_bayes_prediction(feature_stats, data_point):\n",
    "    # TODO: Implement the rest of this function. Make use of previous functions that you have implemented.\n",
    "    # Note: We need to compare the probabilities at some point between the classes we test on, the predicted class should be the class with the highest probability.\n",
    "    prediction_values = {}\n",
    "    prediction_probabilities = {}\n",
    "\n",
    "    for class_label, stats in feature_stats.items():\n",
    "        mean, stdev = stats[0], stats[1]\n",
    "        class_probability = gaussian_probability_density_function(data_point, mean, stdev)\n",
    "\n",
    "        prediction_values[class_label] = class_probability\n",
    "\n",
    "    for class_label, value in prediction_values.items():\n",
    "        prediction_probabilities[class_label] = value / sum(prediction_values.values())\n",
    "    \n",
    "    return prediction_probabilities"
   ]
  },
  {
   "cell_type": "code",
   "execution_count": 809,
   "metadata": {},
   "outputs": [],
   "source": [
    "def probabilities_to_prediction(probabilities):\n",
    "    # TODO: Implement prediction of the class with the highest probability\n",
    "    return max(probabilities, key=probabilities.get)"
   ]
  },
  {
   "cell_type": "markdown",
   "metadata": {},
   "source": [
    "To test the function we need the feature metrics from the classes we choose. \n",
    "\n",
    "**Note:** Choose the correct train/test set and the correct feature/label split!"
   ]
  },
  {
   "cell_type": "code",
   "execution_count": 810,
   "metadata": {},
   "outputs": [],
   "source": [
    "# TODO: Get the feature metrics for the classes.\n",
    "feature_stats = {\n",
    "    \"setosa\": calculate_feature_statistics(train_setosa_features),\n",
    "    \"versicolor\": calculate_feature_statistics(train_versicolor_features)\n",
    "}"
   ]
  },
  {
   "cell_type": "markdown",
   "metadata": {},
   "source": [
    "Now we should have implemented all the neccessary parts to train a naive bayes algorithm and do inference on it. Implement a small test workflow for two of your chosen classes."
   ]
  },
  {
   "cell_type": "code",
   "execution_count": 811,
   "metadata": {},
   "outputs": [
    {
     "name": "stdout",
     "output_type": "stream",
     "text": [
      "{'setosa': np.float64(1.0), 'versicolor': np.float64(5.486671653716348e-24)}\n",
      "{'setosa': np.float64(2.4611241513054434e-115), 'versicolor': np.float64(1.0)}\n",
      "pred: setosa , actual: setosa\n",
      "pred: versicolor , actual: versicolor\n"
     ]
    }
   ],
   "source": [
    "# TODO: Test the \"naive_bayes_prediction\" function and implement all neccessary code for it to work.\n",
    "data_point_setosa = test_setosa_features[0]\n",
    "data_point_versicolor = test_versicolor_features[0]\n",
    "\n",
    "naive_bayes_prediction_setosa = naive_bayes_prediction(feature_stats, data_point_setosa)\n",
    "naive_bayes_prediction_versicolor = naive_bayes_prediction(feature_stats, data_point_versicolor)\n",
    "\n",
    "print(naive_bayes_prediction_setosa)\n",
    "print(naive_bayes_prediction_versicolor)\n",
    "\n",
    "# TODO: Print the predicted class and the actual class for the test set\n",
    "prediction_setosa = probabilities_to_prediction(naive_bayes_prediction_setosa)\n",
    "prediction_versicolor = probabilities_to_prediction(naive_bayes_prediction_versicolor)\n",
    "\n",
    "print(\"pred:\", prediction_setosa, \", actual:\", \"setosa\")\n",
    "print(\"pred:\", prediction_versicolor, \", actual:\", \"versicolor\")\n"
   ]
  },
  {
   "cell_type": "markdown",
   "metadata": {},
   "source": [
    "## ROC-curve\n",
    "\n",
    "A ROC curve, or *Receiver Operating Characteristic curve*, is a graphical plot that illustrates the performance of a binary classifier such as our Naive Bayes model.\n",
    "\n",
    "More info can be found in the course material and here: [https://en.wikipedia.org/wiki/Receiver_operating_characteristic](https://en.wikipedia.org/wiki/Receiver_operating_characteristic)\n",
    "\n",
    "Another good illustration by Google can be found here: [https://developers.google.com/machine-learning/crash-course/classification/roc-and-auc](https://developers.google.com/machine-learning/crash-course/classification/roc-and-auc)\n",
    "\n",
    "Now that we have a prediction model, we would want to try it out and test it using a ROC-curve."
   ]
  },
  {
   "cell_type": "markdown",
   "metadata": {},
   "source": [
    "### 8) True Positive Rate (TPR) and False Positive Rate (FPR)\n",
    "\n",
    "From our prediction function we get probabilities, and for prediction purposes we have just predicted the one with the highest probability.\n",
    "\n",
    "To plot a ROC-curve, we need the TPR and FPR for the binary classification. We will implement this here.\n",
    "\n",
    "**Note 1:** The threshold is is a value that goes from 0 to 1. \n",
    "\n",
    "**Note 2:** One of the two classes will be seen as \"the positive class\" (prediction over the threshold) and the other as \"the negative class\" (prediction under the threshold).\n",
    "\n",
    "**Note 3:** The threshold stepsize will decide the size of the returned TPR/FPR list. A value of 0.1 will give 10 elements (0 to 1 in increments of 0.1)"
   ]
  },
  {
   "cell_type": "code",
   "execution_count": 812,
   "metadata": {},
   "outputs": [
    {
     "name": "stdout",
     "output_type": "stream",
     "text": [
      "Python list: [0.0, 0.1, 0.2, 0.3, 0.4, 0.5, 0.6, 0.7, 0.8, 0.9]\n",
      "Numpy linspace: [0.  0.1 0.2 0.3 0.4 0.5 0.6 0.7 0.8 0.9 1. ]\n",
      "Numpy linspace (no endpoint): [0.  0.1 0.2 0.3 0.4 0.5 0.6 0.7 0.8 0.9]\n"
     ]
    }
   ],
   "source": [
    "# Stepsize demonstration\n",
    "print(\"Python list:\", [x/10 for x in range(0,10,1)])\n",
    "\n",
    "# Stepsize demonstration with numpy:\n",
    "print(\"Numpy linspace:\", np.linspace(0,1,11))\n",
    "print(\"Numpy linspace (no endpoint):\", np.linspace(0,1,10,endpoint=False))"
   ]
  },
  {
   "cell_type": "code",
   "execution_count": 813,
   "metadata": {},
   "outputs": [],
   "source": [
    "def TPR_and_FPR(prediction_probabilities, test_labels, threshold_stepsize=0.1):\n",
    "    thresholds = np.arange(0, 1+threshold_stepsize, threshold_stepsize)\n",
    "    TPR = []\n",
    "    FPR = []\n",
    "    for threshold in thresholds:\n",
    "        TP = 0\n",
    "        FP = 0\n",
    "        TN = 0\n",
    "        FN = 0\n",
    "        for index in range(len(prediction_probabilities)):\n",
    "\n",
    "            positive = list(prediction_probabilities[index].keys())[0]\n",
    "            negative = list(prediction_probabilities[index].keys())[1]\n",
    "            \n",
    "            prediction_proba = list(prediction_probabilities[index].values())[0] # The first is the positive class\n",
    "            predicted_label = positive if prediction_proba > threshold else negative\n",
    "            true_label = test_labels[index]\n",
    "\n",
    "            if predicted_label == positive:\n",
    "                if true_label == positive:\n",
    "                    TP += 1\n",
    "                else:\n",
    "                    FP += 1\n",
    "            else:\n",
    "                if true_label == positive:\n",
    "                    TN += 1\n",
    "                else:\n",
    "                    FN += 1\n",
    "        \n",
    "        TPR_value = TP / (TP + FN) if (TP + FN) > 0 else 0\n",
    "        FPR_value = FP / (FP + TN) if (FP + TN) > 0 else 0\n",
    "        \n",
    "        TPR.append(TPR_value)\n",
    "        FPR.append(FPR_value)\n",
    "    return TPR, FPR"
   ]
  },
  {
   "cell_type": "code",
   "execution_count": 814,
   "metadata": {},
   "outputs": [
    {
     "name": "stdout",
     "output_type": "stream",
     "text": [
      "train: [[4.8 3.0 1.4 0.1 0]\n",
      " [4.4 3.0 1.3 0.2 0]\n",
      " [5.4 3.9 1.7 0.4 0]\n",
      " [4.3 3.0 1.1 0.1 0]\n",
      " [4.9 3.1 1.5 0.1 0]\n",
      " [5.4 3.4 1.5 0.4 0]\n",
      " [5.4 3.4 1.7 0.2 0]\n",
      " [4.9 3.1 1.5 0.1 0]\n",
      " [5.5 4.2 1.4 0.2 0]\n",
      " [4.4 3.2 1.3 0.2 0]\n",
      " [5.1 3.8 1.6 0.2 0]\n",
      " [5.0 3.6 1.4 0.2 0]\n",
      " [5.0 3.3 1.4 0.2 0]\n",
      " [5.1 3.5 1.4 0.3 0]\n",
      " [4.8 3.1 1.6 0.2 0]\n",
      " [4.6 3.1 1.5 0.2 0]\n",
      " [5.2 3.4 1.4 0.2 0]\n",
      " [4.7 3.2 1.6 0.2 0]\n",
      " [5.1 3.7 1.5 0.4 0]\n",
      " [4.9 3.1 1.5 0.1 0]\n",
      " [5.0 3.4 1.6 0.4 0]\n",
      " [5.2 4.1 1.5 0.1 0]\n",
      " [5.8 4.0 1.2 0.2 0]\n",
      " [4.7 3.2 1.3 0.2 0]\n",
      " [5.1 3.4 1.5 0.2 0]] test: [[5.0 3.5 1.3 0.3 0]\n",
      " [5.7 4.4 1.5 0.4 0]\n",
      " [5.0 3.5 1.6 0.6 0]\n",
      " [5.0 3.2 1.2 0.2 0]\n",
      " [5.1 3.8 1.9 0.4 0]\n",
      " [4.4 2.9 1.4 0.2 0]\n",
      " [4.8 3.4 1.9 0.2 0]\n",
      " [5.1 3.3 1.7 0.5 0]\n",
      " [5.3 3.7 1.5 0.2 0]\n",
      " [5.4 3.9 1.3 0.4 0]\n",
      " [5.0 3.0 1.6 0.2 0]\n",
      " [4.6 3.4 1.4 0.3 0]\n",
      " [4.9 3.0 1.4 0.2 0]\n",
      " [5.2 3.5 1.5 0.2 0]\n",
      " [5.5 3.5 1.3 0.2 0]\n",
      " [5.1 3.5 1.4 0.2 0]\n",
      " [4.5 2.3 1.3 0.3 0]\n",
      " [4.6 3.2 1.4 0.2 0]\n",
      " [4.6 3.6 1.0 0.2 0]\n",
      " [5.7 3.8 1.7 0.3 0]\n",
      " [5.1 3.8 1.5 0.3 0]\n",
      " [5.0 3.4 1.5 0.2 0]\n",
      " [4.8 3.4 1.6 0.2 0]\n",
      " [5.4 3.7 1.5 0.2 0]\n",
      " [4.8 3.0 1.4 0.3 0]]\n",
      "proba: 1.0\n"
     ]
    }
   ],
   "source": [
    "# TODO: Test the \"TPR_and_FPR\" function on the model you have created previously.\n",
    "\n",
    "train_s, test_s = train_test_split(iris_setosa)\n",
    "features_train_s, labels_train_s = class_split(train_s)\n",
    "feature_test_s, label_test_s = class_split(test_s)\n",
    "\n",
    "train_v, test_v = train_test_split(iris_versicolor)\n",
    "features_train_v, labels_train_v = class_split(train_v)\n",
    "feature_test_v, label_test_v = class_split(test_v)\n",
    "\n",
    "print(\"train:\", train_s, \"test:\", test_s)\n",
    "features_stat =  {\n",
    "    0: calculate_feature_statistics(features_train_s),\n",
    "    1: calculate_feature_statistics(features_train_v)\n",
    "    }\n",
    "\n",
    "prob = [naive_bayes_prediction(features_stat, data_point) for data_point in feature_test_s] + [naive_bayes_prediction(features_stat, data_point) for data_point in feature_test_v]\n",
    "pred = [probabilities_to_prediction(p) for p in prob]\n",
    "labels = np.concatenate((label_test_s, label_test_v))\n",
    "\n",
    "c = 0\n",
    "for i in range(len(pred)):\n",
    "    if pred[i] == labels[i]:\n",
    "        c += 1\n",
    "print('proba:', c/len(pred))\n",
    "\n",
    "TPR, FPR = TPR_and_FPR(prob, labels, threshold_stepsize=0.01)\n",
    "\n",
    "# for i in range(len(TPR)):\n",
    "#     print(f\"Threshold: {i*0.10}, TPR: {TPR[i]}, FPR: {FPR[i]}\")\n"
   ]
  },
  {
   "cell_type": "markdown",
   "metadata": {},
   "source": [
    "How does the values change if you change the threshold stepsize? \n",
    "\n",
    "How does the values change if you change the classes you compare?"
   ]
  },
  {
   "cell_type": "markdown",
   "metadata": {},
   "source": [
    "### 9) Plot the TPR and FPR\n",
    "\n",
    "To better see what is going on, we can plot the TPR and FPR. We can also calculate the Area Under the ROC Curve (AUC or AUROC) at the same time."
   ]
  },
  {
   "cell_type": "code",
   "execution_count": 815,
   "metadata": {},
   "outputs": [],
   "source": [
    "def get_AUC(TPR, FPR):\n",
    "    auc = 0\n",
    "    for i in range(1, len(TPR)):\n",
    "        auc += (FPR[i] - FPR[i-1]) * (TPR[i] + TPR[i-1]) / 2\n",
    "    return auc\n",
    "\n",
    "def plot_ROC(TPR, FPR):\n",
    "\n",
    "    # TODO: Calculate the AUC score.\n",
    "\n",
    "    # TODO: Plot the TPR and FPR using plt (matplotlib)\n",
    "\n",
    "    # TODO: Add a \"middle-line\" in the plot. This can be seen as the \"better/worse than random\" line.\n",
    "\n",
    "    # Calculate the AUC score\n",
    "    auc_score = get_AUC(TPR, FPR)\n",
    "    \n",
    "    # Plot the ROC curve\n",
    "    plt.figure(figsize=(8, 6))\n",
    "    plt.plot(FPR, TPR, label=f\"ROC Curve (AUC = {auc_score:.2f})\", color='blue', linewidth=2)\n",
    "    \n",
    "    # Plot the diagonal line (random performance)\n",
    "    plt.plot([0, 1], [0, 1], color='gray', linestyle='--', label=\"Random Performance\")\n",
    "    \n",
    "    # Add labels and legend\n",
    "    plt.title(\"ROC Curve\", fontsize=14)\n",
    "    plt.xlabel(\"False Positive Rate (FPR)\", fontsize=12)\n",
    "    plt.ylabel(\"True Positive Rate (TPR)\", fontsize=12)\n",
    "    plt.legend(loc=\"lower right\")\n",
    "    plt.grid(alpha=0.3)\n",
    "    \n",
    "    # Show the plot\n",
    "    plt.show()\n"
   ]
  },
  {
   "cell_type": "code",
   "execution_count": 816,
   "metadata": {},
   "outputs": [
    {
     "data": {
      "image/png": "[encoded data removed]",
      "text/plain": [
       "<Figure size 800x600 with 1 Axes>"
      ]
     },
     "metadata": {},
     "output_type": "display_data"
    }
   ],
   "source": [
    "# TODO: Test the plotting function on the TPR and FPR you just calculated.\n",
    "plot_ROC(TPR, FPR)"
   ]
  },
  {
   "cell_type": "markdown",
   "metadata": {},
   "source": [
    "## Cross-validation\n",
    "\n",
    "The final task is to take everything you have implemented so far and apply it in a cross-validation loop.\n",
    "\n",
    "**Note 1:** To better reflect a real scenarios, you should shuffle the data before doing cross-validation.\n",
    "\n",
    "**Note 2:** When using cross-validation, the interesting thing is the mean performance (mean AUC, mean accuracy, mean ROC-curve).\n",
    "\n",
    "**Note 3:** This part is a bit more free in terms of implementation, but make sure to use some of the previously implemented functions."
   ]
  },
  {
   "cell_type": "markdown",
   "metadata": {},
   "source": [
    "### 10) Cross-validation loop"
   ]
  },
  {
   "cell_type": "code",
   "execution_count": 819,
   "metadata": {},
   "outputs": [],
   "source": [
    "def cross_validation(data, target, folds = 10, threshold_stepsize = 0.1):\n",
    "\n",
    "    TPR = np.array([0 for _ in np.arange(0, 1+threshold_stepsize, threshold_stepsize)], dtype=float)\n",
    "    FPR = np.array([0 for _ in np.arange(0, 1+threshold_stepsize, threshold_stepsize)], dtype=float)\n",
    "    accuracy_sum = 0\n",
    "    accuracy_total = 0\n",
    "    for i in range(folds):\n",
    "        train1, test1 = train_test_split(data)\n",
    "        train2, test2 = train_test_split(target)\n",
    "\n",
    "        features_train1, _ = class_split(train1)\n",
    "        features_test1, labels_test1 = class_split(test1)\n",
    "        features_train2, _ = class_split(train2)\n",
    "        features_test2, labels_test2 = class_split(test2)\n",
    "    \n",
    "        features_stat =  {\n",
    "            0: calculate_feature_statistics(features_train1),\n",
    "            1: calculate_feature_statistics(features_train2)\n",
    "        }\n",
    "\n",
    "        prob = [naive_bayes_prediction(features_stat, data_point) for data_point in features_test1] + [naive_bayes_prediction(features_stat, data_point) for data_point in features_test2]\n",
    "        pred = [probabilities_to_prediction(p) for p in prob]\n",
    "        labels = np.concatenate((labels_test1, labels_test2))\n",
    "\n",
    "        for i in range(len(pred)):\n",
    "            if pred[i] == labels[i]:\n",
    "                accuracy_sum += 1\n",
    "        accuracy_total += len(pred)\n",
    "\n",
    "        new_TPR, new_FPR = TPR_and_FPR(prob, labels, threshold_stepsize=threshold_stepsize)\n",
    "        TPR += new_TPR\n",
    "        FPR += new_FPR\n",
    "    \n",
    "    TPR = TPR / folds\n",
    "    FPR = FPR / folds\n",
    "\n",
    "    accuracy = accuracy_sum / accuracy_total\n",
    "\n",
    "    plot_ROC(TPR, FPR)\n",
    "    print(\"accuracy:\", accuracy)\n",
    "\n",
    "\n",
    "        \n",
    "    "
   ]
  },
  {
   "cell_type": "markdown",
   "metadata": {},
   "source": [
    "### 11) 10-fold Cross-validation on all classes\n",
    "\n",
    "Test the \"cross_validation\" function on all the classes against eachother using 10 folds.\n",
    "\n",
    "* Iris-setosa vs Iris-versicolor\n",
    "* Iris-setosa vs Iris-virginica\n",
    "* Iris-versicolor vs Iris-virginica"
   ]
  },
  {
   "cell_type": "code",
   "execution_count": 820,
   "metadata": {},
   "outputs": [
    {
     "data": {
      "image/png": "[encoded data removed]",
      "text/plain": [
       "<Figure size 800x600 with 1 Axes>"
      ]
     },
     "metadata": {},
     "output_type": "display_data"
    },
    {
     "name": "stdout",
     "output_type": "stream",
     "text": [
      "accuracy: 1.0\n"
     ]
    }
   ],
   "source": [
    "# TODO: Implement and test cross-validation function on all classes.\n",
    "cross_validation(iris_setosa, iris_versicolor)"
   ]
  },
  {
   "cell_type": "code",
   "execution_count": 821,
   "metadata": {},
   "outputs": [
    {
     "data": {
      "image/png": "[encoded data removed]",
      "text/plain": [
       "<Figure size 800x600 with 1 Axes>"
      ]
     },
     "metadata": {},
     "output_type": "display_data"
    },
    {
     "name": "stdout",
     "output_type": "stream",
     "text": [
      "accuracy: 0.5\n"
     ]
    }
   ],
   "source": [
    "# TODO: Implement and test cross-validation function on all classes.\n",
    "cross_validation(iris_setosa, iris_virginica)"
   ]
  },
  {
   "cell_type": "code",
   "execution_count": 830,
   "metadata": {},
   "outputs": [
    {
     "data": {
      "image/png": "[encoded data removed]",
      "text/plain": [
       "<Figure size 800x600 with 1 Axes>"
      ]
     },
     "metadata": {},
     "output_type": "display_data"
    },
    {
     "name": "stdout",
     "output_type": "stream",
     "text": [
      "accuracy: 0.04\n"
     ]
    }
   ],
   "source": [
    "# TODO: Implement and test cross-validation function on all classes.\n",
    "cross_validation(iris_versicolor, iris_virginica)"
   ]
  },
  {
   "cell_type": "markdown",
   "metadata": {},
   "source": [
    "# Questions for examination:\n",
    "\n",
    "In addition to completing the assignment with all its tasks, you should also prepare to answer the following questions:\n",
    "\n",
    "1) Why is it called \"naive bayes\"?\n",
    "\n",
    "2) What are some downsides of the naive bayes learning algorithm?\n",
    "\n",
    "3) When using ROC-curves, what is the theoretical best and worst result you can get?\n",
    "\n",
    "4) When using ROC-curves, in this assignment for example, is a higher threshold-stepsize always better?  \n",
    "\n",
    "5) When using cross-validation and ROC-curves, why is it important to take the correct mean values? What could go wrong?\n"
   ]
  },
  {
   "cell_type": "markdown",
   "metadata": {},
   "source": [
    "# Finished!\n",
    "\n",
    "Was part of the setup incorrect? Did you spot any inconsistencies in the assignment? Could something improve?\n",
    "\n",
    "If so, please write them and send via email and send it to:\n",
    "\n",
    "* marcus.gullstrand@ju.se\n",
    "\n",
    "Thank you!"
   ]
  }
 ],
 "metadata": {
  "kernelspec": {
   "display_name": "ML_course",
   "language": "python",
   "name": "python3"
  },
  "language_info": {
   "codemirror_mode": {
    "name": "ipython",
    "version": 3
   },
   "file_extension": ".py",
   "mimetype": "text/x-python",
   "name": "python",
   "nbconvert_exporter": "python",
   "pygments_lexer": "ipython3",
   "version": "3.12.2"
  }
 },
 "nbformat": 4,
 "nbformat_minor": 2
}
