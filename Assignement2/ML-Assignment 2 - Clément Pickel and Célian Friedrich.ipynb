{
 "cells": [
  {
   "cell_type": "markdown",
   "metadata": {},
   "source": [
    "# Machine Learning - Assignment 2\n",
    "\n",
    "## Decision tree induction algorithm for classification tasks"
   ]
  },
  {
   "cell_type": "markdown",
   "metadata": {},
   "source": [
    "The aim of the assignment is to:\n",
    "\n",
    "* Implement a decision tree induction algorithm for classification tasks.\n",
    "* Make sure it works for real valued features and nominal features (categorical features without rank, e.g., red - blue - green).\n",
    "* Test the algorithm on 3 datasets.\n",
    "\n",
    "Follow the instructions and implement what is missing to complete the assignment. Some functions have been started to help you a little bit with the inputs or outputs of the function.\n",
    "\n",
    "**Note:** You might need to go back and forth during your implementation of the code. The structure is set up to make implementation easier, but how you return values from the different functions might vary, and you might find yourself going back and change something to make it easier later on."
   ]
  },
  {
   "cell_type": "markdown",
   "metadata": {},
   "source": [
    "## Assignment preparations"
   ]
  },
  {
   "cell_type": "markdown",
   "metadata": {},
   "source": [
    "We help you out with importing the libraries.\n",
    "\n",
    "**IMPORTANT NOTE:** You may not import any more libraries than the ones already imported!"
   ]
  },
  {
   "cell_type": "code",
   "execution_count": 21,
   "metadata": {},
   "outputs": [],
   "source": [
    "import numpy as np\n",
    "import pandas as pd\n",
    "import matplotlib.pyplot as plt"
   ]
  },
  {
   "cell_type": "markdown",
   "metadata": {},
   "source": [
    "## Decision tree model\n",
    "\n",
    "The main objective is to implement the decision tree model. The implemented decision tree needs to be recursive model, that is, it should be implemented general enough to call itself in order to grow. \"Growing\" a tree refers to the same thing as \"training\" a model.\n",
    "\n",
    "As said in the introduction, the structure is set up to help with implementation, but the nature of this model makes it a bit harder to implement function-by-function. You will most likely go back and forth between these first tasks."
   ]
  },
  {
   "cell_type": "markdown",
   "metadata": {},
   "source": [
    "### 1) Grow Tree\n",
    "\n",
    "We will start with the main function of the decision tree, the \"growing\" function. \n",
    "\n",
    "This function should be called when creating the model, but also from inside itself. It is responible for creating all the nodes and leafs in the tree."
   ]
  },
  {
   "cell_type": "code",
   "execution_count": 22,
   "metadata": {},
   "outputs": [],
   "source": [
    "def grow_tree(data, target, depth=0, max_depth=None, min_samples_split=2, imbalance_threshold=0.95):\n",
    "\n",
    "    # TODO: Implement the rest of this function.\n",
    "    # NOTE: You will need to come back to this function to make use of later functions.\n",
    "    \n",
    "    if stop1(target):\n",
    "        return {'leaf': True, 'class': target.iloc[0]}\n",
    "    \n",
    "    if stop2(depth, max_depth):\n",
    "        return {'leaf': True, 'class': target.mode().iloc[0]}\n",
    "    \n",
    "    if stop3(data, min_samples_split):\n",
    "        return {'leaf': True, 'class': target.mode().iloc[0]}\n",
    "    \n",
    "    if stop4(data, imbalance_threshold):\n",
    "        return {'leaf': True, 'class': target.mode().iloc[0]}\n",
    "    \n",
    "    best_feature, best_threshold = find_best_split(data, target)\n",
    "    \n",
    "    if best_feature is None:\n",
    "        return {'leaf': True, 'class': target.mode().iloc[0]}\n",
    "\n",
    "    if data[best_feature].dtype.name == \"category\":\n",
    "        left_mask = data[best_feature] == best_threshold\n",
    "        right_mask = ~left_mask\n",
    "    else:\n",
    "        left_mask = data[best_feature] < best_threshold\n",
    "        right_mask = ~left_mask\n",
    "\n",
    "    left_subtree = grow_tree(data[left_mask], target[left_mask], depth + 1, max_depth)\n",
    "    right_subtree = grow_tree(data[right_mask], target[right_mask], depth + 1, max_depth)\n",
    "\n",
    "    return {\n",
    "        'leaf': False,\n",
    "        'feature': best_feature,\n",
    "        'threshold': best_threshold,\n",
    "        'left': left_subtree,\n",
    "        'right': right_subtree\n",
    "    }"
   ]
  },
  {
   "cell_type": "markdown",
   "metadata": {},
   "source": [
    "### 2) Growth stopping conditions (or stopping criterias)\n",
    "\n",
    "The \"grow_tree\" function needs some way of stop growing, otherwise it will grow indefinitely. We will adress this issue here.\n",
    "\n",
    "The trees stopping criterias needs to handle the following:\n",
    "\n",
    "1) When a node has only datapoints of a single class.\n",
    "\n",
    "2) Prevent the tree from growing to large, i.e., a max depth.\n",
    "\n",
    "3) Prevent the tree nodes from becoming to small.\n",
    "\n",
    "4) Prevent the tree from growing when the node is large (has a lot of datapoints) but it is very unbalanced. This is an extention to case 1.\n",
    "\n",
    "Can you think of some other stopping criterias that is good to have? "
   ]
  },
  {
   "cell_type": "code",
   "execution_count": 23,
   "metadata": {},
   "outputs": [],
   "source": [
    "# TODO: Change the name of the functions and implement them as you see fit.\n",
    "\n",
    "def stop1(target):\n",
    "    return len(np.unique(target)) == 1\n",
    "\n",
    "def stop2(depth, max_depth):\n",
    "    return max_depth is not None and depth >= max_depth\n",
    "\n",
    "def stop3(data, min_samples_split):\n",
    "    return len(data) < min_samples_split\n",
    "\n",
    "def stop4(target, imbalance_threshold=0.95):\n",
    "    class_counts = target.value_counts(normalize=True)\n",
    "    return class_counts.max() >= imbalance_threshold\n",
    "\n",
    "# Add more stopping criterias if needed. Don't forget to use them when growing the tree!"
   ]
  },
  {
   "cell_type": "markdown",
   "metadata": {},
   "source": [
    "### 3) Best feature for splitting nodes\n",
    "\n",
    "When we are growing the tree, we need to decide how we are going to split a node into two new nodes. This is achived by looking at the features of the data in the node and calculate the best feature to split on.\n",
    "\n",
    "Here you have a choice:\n",
    "\n",
    "* Split using **Information Entropy**\n",
    "* Split using **Gini Impurity**\n",
    "\n",
    "Finish the function below using Information Entropy or Gini Impurity.\n",
    "\n",
    "**Note:** Your code should be able to handle both real and categorical features!"
   ]
  },
  {
   "cell_type": "code",
   "execution_count": null,
   "metadata": {},
   "outputs": [],
   "source": [
    "# TODO: Change the name to which ever you chose.\n",
    "def entropy(target):\n",
    "    values, counts = np.unique(target, return_counts=True)\n",
    "    probs = counts / counts.sum()\n",
    "    return -np.sum(probs * np.log2(probs))\n",
    "    # TODO: Implement the rest of this function.\n",
    "    # NOTE: Do not forget to have support for real and categorical features.\n",
    "\n",
    "def information_gain(data, target, feature, threshold):\n",
    "    parent_entropy = entropy(target)\n",
    "    \n",
    "    if data[feature].dtype in ['object', 'category']:\n",
    "        left_mask = data[feature] == threshold\n",
    "        right_mask = ~left_mask\n",
    "    else:\n",
    "        left_mask = data[feature] < threshold\n",
    "        right_mask = ~left_mask\n",
    "    \n",
    "    left_entropy = entropy(target[left_mask])\n",
    "    right_entropy = entropy(target[right_mask])\n",
    "    \n",
    "    left_weight = len(data[left_mask]) / len(data)\n",
    "    right_weight = len(data[right_mask]) / len(data)\n",
    "    \n",
    "    gain = parent_entropy - (left_weight * left_entropy + right_weight * right_entropy)\n",
    "    return gain\n",
    "\n",
    "def find_best_split(data, target):\n",
    "    best_feature = None\n",
    "    best_threshold = None\n",
    "    best_gain = 0\n",
    "\n",
    "    for feature in data.columns:\n",
    "        thresholds = data[feature].unique()\n",
    "        for threshold in thresholds:\n",
    "            gain = information_gain(data, target, feature, threshold)\n",
    "            if gain > best_gain:\n",
    "                best_gain = gain\n",
    "                best_feature = feature\n",
    "                best_threshold = threshold\n",
    "            \n",
    "    return best_feature, best_threshold"
   ]
  },
  {
   "cell_type": "markdown",
   "metadata": {},
   "source": [
    "### 4) Split data\n",
    "\n",
    "When growing the tree, we need to split the data multiple times, and what we decide to split varies a lot. It is similar to splitting data into train and test sets (remember from assignment 1), but we split the data based on the best feature for growing a good tree.\n",
    "\n",
    "**IMPORTANT NOTE:** To calculate binary splits for real-valued features, the following rule must be applied: an instance with a feature value lower than the mean feature value follows the left edge from the split node while all other instances follow the right edge from the split node."
   ]
  },
  {
   "cell_type": "code",
   "execution_count": null,
   "metadata": {},
   "outputs": [],
   "source": [
    "def split_data(data, target, feature, threshold):\n",
    "    # TODO: Implement the rest of this function.\n",
    "    if data[feature].dtype in ['object', 'category']:\n",
    "        left_mask = data[feature] == threshold\n",
    "        right_mask = ~left_mask\n",
    "    else:\n",
    "        left_mask = data[feature] < float(threshold)\n",
    "        right_mask = ~left_mask\n",
    "    left_data, left_target = data[left_mask], target[left_mask]\n",
    "    right_data, right_target = data[right_mask], target[right_mask]\n",
    "    return left_data, left_target, right_data, right_target"
   ]
  },
  {
   "cell_type": "markdown",
   "metadata": {},
   "source": [
    "### 5) Predict with tree model\n",
    "\n",
    "Finally, when we have grown our tree, we would like to use it for prediction. When using the tree for prediction, we traverse the tree for each datapoint untill we land in a leaf node."
   ]
  },
  {
   "cell_type": "code",
   "execution_count": 26,
   "metadata": {},
   "outputs": [],
   "source": [
    "def predict_with_tree(tree, sample):\n",
    "\n",
    "    # TODO: Implement the rest of this function.\n",
    "    # NOTE: This function should also be recursive.\n",
    "    if tree['leaf']:\n",
    "        return tree['class']\n",
    "    \n",
    "    feature = tree['feature']\n",
    "    threshold = tree['threshold']\n",
    "    \n",
    "    if isinstance(sample[feature], (str, pd.Categorical)):\n",
    "        if sample[feature] == threshold:\n",
    "            return predict_with_tree(tree['left'], sample)\n",
    "        else:\n",
    "            return predict_with_tree(tree['right'], sample)\n",
    "    else:\n",
    "        if sample[feature] < threshold:\n",
    "            return predict_with_tree(tree['left'], sample)\n",
    "        else:\n",
    "            return predict_with_tree(tree['right'], sample)"
   ]
  },
  {
   "cell_type": "markdown",
   "metadata": {},
   "source": [
    "## Test decision tree model, compare with scikit learn, and plot dataset results\n",
    "\n",
    "In the last part of the lab, you are going to test your tree code and compare it to scikit learn. The goal is not to be better than an established library, but to give you an indication about if you are on the right track.\n",
    "\n",
    "You will need to plot the results from your model and the scikit learn model using matplotlib. We suggest a simple but informative bar-charts.\n",
    "\n",
    "To make the comparison fair, you should train and test both your decision tree algorithm and the scikit learn at least 5 times, and shuffle the data each time before splitting the data into a train and test set.\n",
    "\n",
    "The datasets are:\n",
    "\n",
    "* Wine - (https://archive.ics.uci.edu/dataset/109/wine)\n",
    "* Heart disease - (https://archive.ics.uci.edu/dataset/45/heart+disease)\n",
    "* Car - (https://archive.ics.uci.edu/dataset/19/car+evaluation)\n",
    "\n",
    "**IMPORTANT NOTE 1:** Take note of the feature types in the datasets, some features are numerical in value but are in fact categorical features. Be sure to handle these features correctly!\n",
    "\n",
    "**IMPORTANT NOTE 2:** In this assignment it helps to add an additional header with information about the features and if they are nominal (n) or real (r) features."
   ]
  },
  {
   "cell_type": "code",
   "execution_count": 27,
   "metadata": {},
   "outputs": [],
   "source": [
    "import matplotlib.pyplot as plt\n",
    "\n",
    "from sklearn.model_selection import train_test_split\n",
    "from sklearn.metrics import accuracy_score\n",
    "from sklearn.tree import DecisionTreeClassifier"
   ]
  },
  {
   "cell_type": "markdown",
   "metadata": {},
   "source": [
    "You may use the \"**accuracy_score**\" function from scikit learn (imported above) to compare the performance of your own and scikit learns models.\n",
    "\n",
    "See below for an example use."
   ]
  },
  {
   "cell_type": "code",
   "execution_count": 28,
   "metadata": {},
   "outputs": [
    {
     "data": {
      "text/plain": [
       "0.6"
      ]
     },
     "execution_count": 28,
     "metadata": {},
     "output_type": "execute_result"
    }
   ],
   "source": [
    "y_true = [1,1,1,1,1] # Pretend labels\n",
    "y_pred = [1,1,2,2,1] # Pretend prediction\n",
    "\n",
    "accuracy_score(y_true, y_pred)"
   ]
  },
  {
   "cell_type": "markdown",
   "metadata": {},
   "source": [
    "### 6) Dataset 1: Wine"
   ]
  },
  {
   "cell_type": "code",
   "execution_count": 34,
   "metadata": {},
   "outputs": [
    {
     "data": {
      "image/png": "[encoded data removed]",
      "text/plain": [
       "<Figure size 1000x500 with 1 Axes>"
      ]
     },
     "metadata": {},
     "output_type": "display_data"
    }
   ],
   "source": [
    "data_wine = pd.read_csv(\"wine.csv\")\n",
    "# TODO: Set up the data and split it into train and test-sets.\n",
    "data_wine = data_wine.iloc[1:].reset_index(drop=True)\n",
    "X = data_wine.iloc[:, :-1].astype(float)\n",
    "y = data_wine.iloc[:, -1].astype(int)\n",
    "\n",
    "X = (X - X.min(axis=0)) / (X.max(axis=0) - X.min(axis=0))\n",
    "\n",
    "n_tests = 5\n",
    "\n",
    "model_scores = []\n",
    "sklearn_model_scores = []\n",
    "\n",
    "for _ in range(n_tests):\n",
    "# TODO: Train and test your implemented tree model.\n",
    "# NOTE: Use the same train/test split for your tree model and the scikit learn model\n",
    "    X_train, X_test, y_train, y_test = train_test_split(X, y, test_size=0.3, shuffle=True, random_state=None)\n",
    "    \n",
    "    X_train = pd.DataFrame(X_train, columns=data_wine.columns[:-1])\n",
    "    X_test = pd.DataFrame(X_test, columns=data_wine.columns[:-1])\n",
    "    \n",
    "    tree = grow_tree(X_train, y_train, max_depth=5)\n",
    "    \n",
    "    y_pred_our_model = [predict_with_tree(tree, sample) for _, sample in X_test.iterrows()]\n",
    "    \n",
    "    our_model_accuracy = accuracy_score(y_test, y_pred_our_model)\n",
    "    model_scores.append(our_model_accuracy)\n",
    "    \n",
    "# TODO: Train and test scikit learns tree model.\n",
    "# NOTE: Use the same train/test split for your tree model and the scikit learn model\n",
    "    clf = DecisionTreeClassifier(max_depth=5)\n",
    "    clf.fit(X_train, y_train)\n",
    "    \n",
    "    y_pred_sklearn = clf.predict(X_test)\n",
    "    \n",
    "    sklearn_accuracy = accuracy_score(y_test, y_pred_sklearn)\n",
    "    \n",
    "    sklearn_model_scores.append(sklearn_accuracy)\n",
    "# TODO: Do the above at least 5 times\n",
    "# NOTE: Use loops here!\n",
    "\n",
    "# TODO: Plot the results with matplotlib (plt)\n",
    "# NOTE: One plot with all results is enough\n",
    "plt.figure(figsize=(10, 5))\n",
    "x_labels = [f\"Run {i+1}\" for i in range(n_tests)]\n",
    "x = np.arange(n_tests)\n",
    "\n",
    "plt.bar(x - 0.2, model_scores, 0.4, label=\"Our Model\", color=\"blue\")\n",
    "plt.bar(x + 0.2, sklearn_model_scores, 0.4, label=\"Scikit-learn\", color=\"red\")\n",
    "\n",
    "plt.xlabel(\"Trials\")\n",
    "plt.ylabel(\"Accuracy\")\n",
    "plt.title(\"Accuracy Comparison: Our Model vs Scikit-learn\")\n",
    "plt.xticks(x, x_labels)\n",
    "plt.legend()\n",
    "plt.show()"
   ]
  },
  {
   "cell_type": "markdown",
   "metadata": {},
   "source": [
    "### 7) Dataset 2: Heart Disease"
   ]
  },
  {
   "cell_type": "code",
   "execution_count": 30,
   "metadata": {},
   "outputs": [
    {
     "data": {
      "image/png": "[encoded data removed]",
      "text/plain": [
       "<Figure size 1000x500 with 1 Axes>"
      ]
     },
     "metadata": {},
     "output_type": "display_data"
    }
   ],
   "source": [
    "data_heart = pd.read_csv(\"heart.csv\")\n",
    "# TODO: Set up the data and split it into train and test-sets.\n",
    "X = data_heart.iloc[:, :-1].astype(float)\n",
    "y = data_heart.iloc[:, -1].astype(int)\n",
    "\n",
    "X = (X - X.min(axis=0)) / (X.max(axis=0) - X.min(axis=0))\n",
    "\n",
    "n_tests = 5\n",
    "\n",
    "model_scores = []\n",
    "sklearn_model_scores = []\n",
    "\n",
    "for _ in range(n_tests):\n",
    "# TODO: Train and test your implemented tree model.\n",
    "# NOTE: Use the same train/test split for your tree model and the scikit learn model\n",
    "    X_train, X_test, y_train, y_test = train_test_split(X, y, test_size=0.3, shuffle=True, random_state=None)\n",
    "    \n",
    "    X_train = pd.DataFrame(X_train, columns=data_heart.columns[:-1])\n",
    "    X_test = pd.DataFrame(X_test, columns=data_heart.columns[:-1])\n",
    "    \n",
    "    tree = grow_tree(X_train, y_train, max_depth=5)\n",
    "    y_pred_our_model = [predict_with_tree(tree, sample) for _, sample in X_test.iterrows()]\n",
    "    \n",
    "    model_scores.append(accuracy_score(y_test, y_pred_our_model))\n",
    "    \n",
    "# TODO: Train and test scikit learns tree model.\n",
    "# NOTE: Use the same train/test split for your tree model and the scikit learn model\n",
    "    clf = DecisionTreeClassifier(max_depth=5)\n",
    "    clf.fit(X_train, y_train)\n",
    "    \n",
    "    y_pred_sklearn = clf.predict(X_test)\n",
    "    \n",
    "    sklearn_accuracy = accuracy_score(y_test, y_pred_sklearn)\n",
    "    \n",
    "    sklearn_model_scores.append(sklearn_accuracy)\n",
    "# TODO: Do the above at least 5 times\n",
    "# NOTE: Use loops here!\n",
    "\n",
    "# TODO: Plot the results with matplotlib (plt)\n",
    "# NOTE: One plot with all results is enough\n",
    "plt.figure(figsize=(10, 5))\n",
    "x_labels = [f\"Run {i+1}\" for i in range(n_tests)]\n",
    "x = np.arange(n_tests)\n",
    "\n",
    "plt.bar(x - 0.2, model_scores, 0.4, label=\"Our Model\", color=\"blue\")\n",
    "plt.bar(x + 0.2, sklearn_model_scores, 0.4, label=\"Scikit-learn\", color=\"red\")\n",
    "\n",
    "plt.xlabel(\"Trials\")\n",
    "plt.ylabel(\"Accuracy\")\n",
    "plt.title(\"Accuracy Comparison: Our Model vs Scikit-learn\")\n",
    "plt.xticks(x, x_labels)\n",
    "plt.legend()\n",
    "plt.show()"
   ]
  },
  {
   "cell_type": "markdown",
   "metadata": {},
   "source": [
    "### 8) Dataset 3: Car"
   ]
  },
  {
   "cell_type": "code",
   "execution_count": 59,
   "metadata": {},
   "outputs": [
    {
     "data": {
      "image/png": "[encoded data removed]",
      "text/plain": [
       "<Figure size 1000x500 with 1 Axes>"
      ]
     },
     "metadata": {},
     "output_type": "display_data"
    }
   ],
   "source": [
    "data_car = pd.read_csv(\"car.csv\")\n",
    "# TODO: Set up the data and split it into train and test-sets.\n",
    "\n",
    "X = data_car.iloc[:, :-1].copy()\n",
    "y = data_car.iloc[:, -1]\n",
    "\n",
    "for col in X.select_dtypes(include=['object']).columns:\n",
    "    X[col] = X[col].astype('category')\n",
    "y = y.astype('category')\n",
    "\n",
    "n_tests = 5\n",
    "\n",
    "model_scores = []\n",
    "sklearn_model_scores = []\n",
    "\n",
    "for _ in range(n_tests):\n",
    "# TODO: Train and test your implemented tree model.\n",
    "# NOTE: Use the same train/test split for your tree model and the scikit learn model\n",
    "    X_train, X_test, y_train, y_test = train_test_split(X, y, test_size=0.3, shuffle=True, random_state=None)\n",
    "    \n",
    "    tree = grow_tree(X_train, y_train, max_depth=5)\n",
    "    y_pred_our_model = [predict_with_tree(tree, sample) for _, sample in X_test.iterrows()]\n",
    "    \n",
    "    model_scores.append(accuracy_score(y_test, y_pred_our_model))\n",
    "\n",
    "# TODO: Train and test scikit learns tree model.\n",
    "# NOTE: Use the same train/test split for your tree model and the scikit learn model\n",
    "    X_train = X_train.apply(lambda col: col.cat.codes)\n",
    "    X_test = X_test.apply(lambda col: col.cat.codes)\n",
    "\n",
    "    clf = DecisionTreeClassifier(max_depth=5)\n",
    "    clf.fit(X_train, y_train)\n",
    "    \n",
    "    y_pred_sklearn = clf.predict(X_test)\n",
    "    \n",
    "    sklearn_accuracy = accuracy_score(y_test, y_pred_sklearn)\n",
    "    \n",
    "    sklearn_model_scores.append(sklearn_accuracy)\n",
    "# TODO: Do the above at least 5 times\n",
    "# NOTE: Use loops here!\n",
    "\n",
    "# TODO: Plot the results with matplotlib (plt)\n",
    "# NOTE: One plot with all results is enough\n",
    "plt.figure(figsize=(10, 5))\n",
    "x_labels = [f\"Run {i+1}\" for i in range(n_tests)]\n",
    "x = np.arange(n_tests)\n",
    "\n",
    "plt.bar(x - 0.2, model_scores, 0.4, label=\"Our Model\", color=\"blue\")\n",
    "plt.bar(x + 0.2, sklearn_model_scores, 0.4, label=\"Scikit-learn\", color=\"red\")\n",
    "\n",
    "plt.xlabel(\"Trials\")\n",
    "plt.ylabel(\"Accuracy\")\n",
    "plt.title(\"Accuracy Comparison: Our Model vs Scikit-learn\")\n",
    "plt.xticks(x, x_labels)\n",
    "plt.legend()\n",
    "plt.show()"
   ]
  },
  {
   "cell_type": "markdown",
   "metadata": {},
   "source": [
    "### 9) Training with normalized data on the wine-dataset\n",
    "\n",
    "So far, we have trained our decision trees with \"raw\" data, i.e., we haven't done much preprocessing on the data.\n",
    "\n",
    "Here we will do minor preprocessing on the data with the help of the scikit-learn library: https://scikit-learn.org/stable/modules/preprocessing.html"
   ]
  },
  {
   "cell_type": "code",
   "execution_count": 58,
   "metadata": {},
   "outputs": [
    {
     "data": {
      "image/png": "[encoded data removed]",
      "text/plain": [
       "<Figure size 1200x600 with 1 Axes>"
      ]
     },
     "metadata": {},
     "output_type": "display_data"
    }
   ],
   "source": [
    "from sklearn import preprocessing\n",
    "\n",
    "# TODO: Use the wine dataset from above and scale its features and labels between 0 and 1\n",
    "data_wine = pd.read_csv(\"wine.csv\")\n",
    "data_wine = data_wine.iloc[1:].reset_index(drop=True)\n",
    "\n",
    "X = data_wine.iloc[:, :-1].astype(float)\n",
    "y = data_wine.iloc[:, -1].astype(int)\n",
    "\n",
    "scaler = preprocessing.StandardScaler()\n",
    "\n",
    "# X_scaled = scaler.fit_transform(X)\n",
    "\n",
    "n_tests = 5\n",
    "\n",
    "# TODO: Run the code from the dataset and compare the preprocessed vs non-preprocessed data.\n",
    "# NOTE: You can copy most of the workflow from the dataset code above to save you some time.\n",
    "# NOTE: Use the same train/test split for your tree model for both the preprocessed vs non-preprocessed data.\n",
    "\n",
    "raw_model_scores = []\n",
    "raw_sklearn_model_scores = []\n",
    "scaled_model_scores = []\n",
    "scaled_sklearn_model_scores = []\n",
    "\n",
    "for i in range(n_tests):\n",
    "    X_train, X_test, y_train, y_test = train_test_split(X, y, test_size=0.3, shuffle=True, random_state=None)\n",
    "    # X_train_scaled, X_test_scaled, y_train_scaled, y_test_scaled = train_test_split(X_scaled, y, test_size=0.3, shuffle=True, random_state=None)\n",
    "\n",
    "    X_train_scaled = scaler.fit_transform(X_train)\n",
    "    X_test_scaled = scaler.transform(X_test)\n",
    "    y_train_scaled = y_train\n",
    "    y_test_scaled = y_test\n",
    "\n",
    "    X_train = pd.DataFrame(X_train, columns=data_wine.columns[:-1]).reset_index(drop=True)\n",
    "    X_test = pd.DataFrame(X_test, columns=data_wine.columns[:-1]).reset_index(drop=True)\n",
    "    X_train_scaled = pd.DataFrame(X_train_scaled, columns=data_wine.columns[:-1]).reset_index(drop=True)\n",
    "    X_test_scaled = pd.DataFrame(X_test_scaled, columns=data_wine.columns[:-1]).reset_index(drop=True)\n",
    "\n",
    "    y_train = y_train.reset_index(drop=True)\n",
    "    y_test = y_test.reset_index(drop=True)\n",
    "    \n",
    "    tree = grow_tree(X_train, y_train, max_depth=5)\n",
    "    y_pred_our_model = [predict_with_tree(tree, sample) for _, sample in X_test.iterrows()]\n",
    "    our_model_accuracy = accuracy_score(y_test, y_pred_our_model)\n",
    "    raw_model_scores.append(our_model_accuracy)\n",
    "\n",
    "    clf = DecisionTreeClassifier(max_depth=5)\n",
    "    clf.fit(X_train, y_train)\n",
    "    y_pred_sklearn = clf.predict(X_test)\n",
    "    sklearn_accuracy = accuracy_score(y_test, y_pred_sklearn)\n",
    "    raw_sklearn_model_scores.append(sklearn_accuracy)\n",
    "\n",
    "    tree_scaled = grow_tree(X_train_scaled, y_train, max_depth=5)\n",
    "    y_pred_scaled = [predict_with_tree(tree_scaled, sample) for _, sample in X_test_scaled.iterrows()]\n",
    "    our_model_scaled_accuracy = accuracy_score(y_test, y_pred_scaled)\n",
    "    scaled_model_scores.append(our_model_scaled_accuracy)\n",
    "\n",
    "    clf_scaled = DecisionTreeClassifier(max_depth=5)\n",
    "    clf_scaled.fit(X_train_scaled, y_train)\n",
    "    y_pred_sklearn_scaled = clf_scaled.predict(X_test_scaled)\n",
    "    sklearn_scaled_accuracy = accuracy_score(y_test, y_pred_sklearn_scaled)\n",
    "    scaled_sklearn_model_scores.append(sklearn_scaled_accuracy)\n",
    "\n",
    "# TODO: Do the above at least 5 times\n",
    "# NOTE: Use loops here!\n",
    "\n",
    "# TODO: Plot the results with matplotlib (plt)\n",
    "# NOTE: One plot with all results is enough\n",
    "plt.figure(figsize=(12, 6))\n",
    "x_labels = [f\"Run {i+1}\" for i in range(n_tests)]\n",
    "x = np.arange(n_tests)\n",
    "\n",
    "plt.bar(x - 0.3, raw_model_scores, 0.2, label=\"Our Model (Raw)\", color=\"blue\")\n",
    "plt.bar(x - 0.1, raw_sklearn_model_scores, 0.2, label=\"Scikit-learn (Raw)\", color=\"red\")\n",
    "plt.bar(x + 0.1, scaled_model_scores, 0.2, label=\"Our Model (Scaled)\", color=\"green\")\n",
    "plt.bar(x + 0.3, scaled_sklearn_model_scores, 0.2, label=\"Scikit-learn (Scaled)\", color=\"orange\")\n",
    "\n",
    "plt.xlabel(\"Trials\")\n",
    "plt.ylabel(\"Accuracy\")\n",
    "plt.title(\"Comparison: Raw vs Scaled Data on Wine Dataset\")\n",
    "plt.xticks(x, x_labels)\n",
    "plt.legend()\n",
    "plt.show()"
   ]
  },
  {
   "cell_type": "markdown",
   "metadata": {},
   "source": [
    "# Questions for examination:\n",
    "\n",
    "In addition to completing the assignment with all its tasks, you should also prepare to answer the following questions:\n",
    "\n",
    "1) Why is growing the tree indefinitely such a bad idea? The performance would increase would it not?\n",
    "\n",
    "2) Beside preventing the tree from growing to large, what is the purpose of 'stopping criterias'?\n",
    "\n",
    "3) What is the difference between **Information Entropy** and **Gini Impurity**?\n",
    "\n",
    "4) What are some pros about using decision trees?\n",
    "\n",
    "5) Did preprocessing the data help with performance when using decision trees?"
   ]
  },
  {
   "cell_type": "markdown",
   "metadata": {},
   "source": [
    "# Finished!\n",
    "\n",
    "Was part of the setup incorrect? Did you spot any inconsistencies in the assignment? Could something improve?\n",
    "\n",
    "If so, please write them and send via email and send it to:\n",
    "\n",
    "* marcus.gullstrand@ju.se\n",
    "\n",
    "Thank you!"
   ]
  }
 ],
 "metadata": {
  "kernelspec": {
   "display_name": ".venv",
   "language": "python",
   "name": "python3"
  },
  "language_info": {
   "codemirror_mode": {
    "name": "ipython",
    "version": 3
   },
   "file_extension": ".py",
   "mimetype": "text/x-python",
   "name": "python",
   "nbconvert_exporter": "python",
   "pygments_lexer": "ipython3",
   "version": "3.12.6"
  }
 },
 "nbformat": 4,
 "nbformat_minor": 2
}
